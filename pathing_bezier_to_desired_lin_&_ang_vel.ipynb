{
  "nbformat": 4,
  "nbformat_minor": 0,
  "metadata": {
    "colab": {
      "provenance": [],
      "authorship_tag": "ABX9TyNVDgbXL48T3OrNPvR9mhuk",
      "include_colab_link": true
    },
    "kernelspec": {
      "name": "python3",
      "display_name": "Python 3"
    },
    "language_info": {
      "name": "python"
    }
  },
  "cells": [
    {
      "cell_type": "markdown",
      "metadata": {
        "id": "view-in-github",
        "colab_type": "text"
      },
      "source": [
        "<a href=\"https://colab.research.google.com/github/i-hdk/pathing-colab/blob/main/pathing_bezier_to_desired_lin_%26_ang_vel.ipynb\" target=\"_parent\"><img src=\"https://colab.research.google.com/assets/colab-badge.svg\" alt=\"Open In Colab\"/></a>"
      ]
    },
    {
      "cell_type": "markdown",
      "source": [
        "# import to bezier point array"
      ],
      "metadata": {
        "id": "YkstUn9NFZ2o"
      }
    },
    {
      "cell_type": "code",
      "source": [
        "import numpy as np\n",
        "import os\n",
        "\n",
        "line_count = sum(1 for _ in open('test.txt'))\n",
        "\n",
        "print(f\"The number of lines in test.txt is: {line_count}\")\n",
        "bezier = np.float64(np.arange(line_count*8).reshape(line_count,4,2))\n",
        "l = 0\n",
        "try:\n",
        "  with open(\"test.txt\", 'r') as file:\n",
        "    for line in file:\n",
        "      # Remove parentheses and split the line\n",
        "      numbers = line.replace('(', '').replace(')', '').split(',')\n",
        "\n",
        "      # Clean up the numbers\n",
        "      cleaned_numbers = []\n",
        "      for num in numbers:\n",
        "          num = num.strip()\n",
        "          if num:\n",
        "              cleaned_numbers.extend([float(x) for x in num.split()])\n",
        "\n",
        "      # Print the extracted numbers\n",
        "      print(cleaned_numbers)\n",
        "      bezier[l][0][0] = cleaned_numbers[0]\n",
        "      bezier[l][0][1] = cleaned_numbers[1]\n",
        "      bezier[l][1][0] = cleaned_numbers[2]\n",
        "      bezier[l][1][1] = cleaned_numbers[3]\n",
        "      bezier[l][2][0] = cleaned_numbers[4]\n",
        "      bezier[l][2][1] = cleaned_numbers[5]\n",
        "      bezier[l][3][0] = cleaned_numbers[6]\n",
        "      bezier[l][3][1] = cleaned_numbers[7]\n",
        "      l+=1\n",
        "\n",
        "except FileNotFoundError:\n",
        "    print(\"The file does not exist.\")\n",
        "\n",
        "print(bezier)\n"
      ],
      "metadata": {
        "colab": {
          "base_uri": "https://localhost:8080/"
        },
        "id": "_SUQMsbICY1o",
        "outputId": "c590f1ed-32fc-4b95-e785-b58f697478b6"
      },
      "execution_count": null,
      "outputs": [
        {
          "output_type": "stream",
          "name": "stdout",
          "text": [
            "The number of lines in test.txt is: 2\n",
            "[82.14, 9.67, 88.83, 9.43, 98.77, 7.5, 104.85, 11.34]\n",
            "[104.85, 11.34, 109.39, 14.21, 105.81, 22.35, 108.2, 35.28]\n",
            "[[[ 82.14   9.67]\n",
            "  [ 88.83   9.43]\n",
            "  [ 98.77   7.5 ]\n",
            "  [104.85  11.34]]\n",
            "\n",
            " [[104.85  11.34]\n",
            "  [109.39  14.21]\n",
            "  [105.81  22.35]\n",
            "  [108.2   35.28]]]\n"
          ]
        }
      ]
    },
    {
      "cell_type": "markdown",
      "source": [
        "# reversed import"
      ],
      "metadata": {
        "id": "kViLJ7cmzQy8"
      }
    },
    {
      "cell_type": "code",
      "source": [
        "import numpy as np\n",
        "import os\n",
        "\n",
        "line_count = sum(1 for _ in open('test.txt'))\n",
        "\n",
        "print(f\"The number of lines in test.txt is: {line_count}\")\n",
        "bezier = np.float64(np.arange(line_count*8).reshape(line_count,4,2))\n",
        "l = 0\n",
        "try:\n",
        "  with open(\"test.txt\", 'r') as file:\n",
        "    for line in file:\n",
        "      # Remove parentheses and split the line\n",
        "      numbers = line.replace('(', '').replace(')', '').split(',')\n",
        "\n",
        "      # Clean up the numbers\n",
        "      cleaned_numbers = []\n",
        "      for num in numbers:\n",
        "          num = num.strip()\n",
        "          if num:\n",
        "              cleaned_numbers.extend([float(x) for x in num.split()])\n",
        "\n",
        "      # Print the extracted numbers\n",
        "      print(cleaned_numbers)\n",
        "      bezier[l][0][0] = cleaned_numbers[0]\n",
        "      bezier[l][0][1] = cleaned_numbers[1]\n",
        "      bezier[l][1][0] = cleaned_numbers[2]\n",
        "      bezier[l][1][1] = cleaned_numbers[3]\n",
        "      bezier[l][2][0] = cleaned_numbers[4]\n",
        "      bezier[l][2][1] = cleaned_numbers[5]\n",
        "      bezier[l][3][0] = cleaned_numbers[6]\n",
        "      bezier[l][3][1] = cleaned_numbers[7]\n",
        "      l+=1\n",
        "\n",
        "except FileNotFoundError:\n",
        "    print(\"The file does not exist.\")\n",
        "\n",
        "print(bezier)\n"
      ],
      "metadata": {
        "colab": {
          "base_uri": "https://localhost:8080/"
        },
        "id": "2bfkPDulzSHp",
        "outputId": "d04557cb-fc04-4bc3-d901-6227bc522929"
      },
      "execution_count": null,
      "outputs": [
        {
          "output_type": "stream",
          "name": "stdout",
          "text": [
            "The number of lines in test.txt is: 2\n",
            "[82.14, 9.67, 88.83, 9.43, 98.77, 7.5, 104.85, 11.34]\n",
            "[104.85, 11.34, 109.39, 14.21, 105.81, 22.35, 108.2, 35.28]\n",
            "[[[ 82.14   9.67]\n",
            "  [ 88.83   9.43]\n",
            "  [ 98.77   7.5 ]\n",
            "  [104.85  11.34]]\n",
            "\n",
            " [[104.85  11.34]\n",
            "  [109.39  14.21]\n",
            "  [105.81  22.35]\n",
            "  [108.2   35.28]]]\n"
          ]
        }
      ]
    },
    {
      "cell_type": "markdown",
      "source": [
        "# calculate velocities"
      ],
      "metadata": {
        "id": "Ituz1J6xFmuO"
      }
    },
    {
      "cell_type": "code",
      "execution_count": null,
      "metadata": {
        "id": "LvSRLzsjf01d",
        "colab": {
          "base_uri": "https://localhost:8080/"
        },
        "outputId": "cc64ee66-5ec8-4529-8441-a5984d55458c"
      },
      "outputs": [
        {
          "output_type": "stream",
          "name": "stdout",
          "text": [
            "0\n",
            "0\n",
            "1\n",
            "1\n",
            "82.1403345027083\n",
            "9.669987998591703\n",
            "82.1403345027083\n",
            "9.669987998591703\n",
            "5493\n",
            "82.1403345027083\n",
            "9.669987998591703\n",
            "append_ms: 4464\n",
            "82.1403345027083\n",
            "9.669987998591703\n",
            "82.1403345027083\n",
            "9.669987998591703\n",
            "82.1403345027083\n",
            "9.669987998591703\n"
          ]
        }
      ],
      "source": [
        "import math\n",
        "\n",
        "def bezier_value(p0, p1, p2, p3, t): #ps should be scalars, like the x or y component of each point\n",
        "  term1 = ((1-t)**3)*p0\n",
        "  term2 = 3*((1-t)**2)*t*p1\n",
        "  term3 = 3*((1-t))*(t**2)*p2\n",
        "  term4 = (t**3)*p3\n",
        "  return term1 + term2 + term3 + term4\n",
        "\n",
        "def bezier_derivative(p0, p1, p2, p3, t):\n",
        "  term1 = 3*((1-t)**2)*(p1-p0)\n",
        "  term2 = 6*(1-t)*t*(p2-p1)\n",
        "  term3 = 3*(t**2)*(p3-p2)\n",
        "  return term1 + term2 + term3\n",
        "\n",
        "def bezier_acceleration(p0, p1, p2, p3, t):\n",
        "  term1 = 6*(1-t)*(p2-2*p1+p0)\n",
        "  term2 = 6*t*(p3-2*p2+p1)\n",
        "  return term1 + term2\n",
        "\n",
        "def arc_length(p0x,p0y,p1x,p1y,p2x,p2y,p3x,p3y,a,b):\n",
        "  x = 0\n",
        "  start = a\n",
        "  stop = b\n",
        "  step = integration_interval_width\n",
        "  intervals = np.linspace(start, stop, int((stop - start) / step))\n",
        "  for i in intervals:\n",
        "    integrand = math.sqrt((bezier_derivative (p0x,p1x,p2x,p3x,i))**2+(bezier_derivative(p0y,p1y,p2y,p3y,i))**2)\n",
        "    x+=integrand*integration_interval_width\n",
        "  return x\n",
        "\n",
        "def curvature(p0x,p0y,p1x,p1y,p2x,p2y,p3x,p3y,t):\n",
        "  bax = bezier_acceleration(p0x,p1x,p2x,p3x,t)\n",
        "  bdy = bezier_derivative(p0y,p1y,p2y,p3y,t)\n",
        "  bay = bezier_acceleration(p0y,p1y,p2y,p3y,t)\n",
        "  bdx = bezier_derivative(p0x,p1x,p2x,p3x,t)\n",
        "  numerator = bax*bdy-bdx*bay\n",
        "  denominator = (bdx**2+bdy**2)**1.5\n",
        "  return numerator/denominator\n",
        "\n",
        "#inputs\n",
        "desired_speed = 10 #inches/second\n",
        "max_acceleration = 5 #inches/second^2\n",
        "integration_interval_width = 0.000001 #used for estimating integrals for arc length of parametric curve\n",
        "predicted_time = 20 #seconds of path, need to overestimate or else not enough space for output array\n",
        "bezier_splits = 60000\n",
        "\n",
        "desired_speed_ms = desired_speed/1000\n",
        "time_to_max_ms = math.ceil(desired_speed/max_acceleration*1000)\n",
        "output = np.arange(1000*predicted_time*7)\n",
        "output = np.float64(output.reshape(1000*predicted_time,7)) #output should return for every ms, lin & angular velocity, bezier count & t*1000\n",
        "bezier_ms = np.arange(len(bezier)*bezier_splits) #gives ms in output array based on t and which bezier\n",
        "bezier_ms = bezier_ms.reshape(len(bezier),bezier_splits)\n",
        "\n",
        "dee = 0\n",
        "ms_count = 0 #used to start at 1\n",
        "temp_arc_length = 0\n",
        "setpoint = 0\n",
        "for b in range(len(bezier)):\n",
        "  for i in range(bezier_splits):\n",
        "    temp_arc_length+=arc_length(bezier[b][0][0],bezier[b][0][1],bezier[b][1][0],bezier[b][1][1],bezier[b][2][0],bezier[b][2][1],bezier[b][3][0],bezier[b][3][1],i/bezier_splits,(i+1)/bezier_splits)\n",
        "    if ms_count < time_to_max_ms:\n",
        "      setpoint = ms_count/time_to_max_ms*desired_speed_ms\n",
        "    else:\n",
        "      setpoint = desired_speed_ms\n",
        "      \"\"\"\n",
        "    if i > 500 and i < 1000:\n",
        "      print(\"temp_arc_length: \" + str(temp_arc_length))\n",
        "      print(\"setpoint: \" + str(setpoint))\n",
        "      \"\"\"\n",
        "\n",
        "    if temp_arc_length >= setpoint:\n",
        "      output[ms_count][0] = setpoint*1000 #inch/sec\n",
        "      radius = 1/curvature(bezier[b][0][0],bezier[b][0][1],bezier[b][1][0],bezier[b][1][1],bezier[b][2][0],bezier[b][2][1],bezier[b][3][0],bezier[b][3][1],i/bezier_splits)\n",
        "      output[ms_count][1] = output[ms_count][0]/radius #radians/sec\n",
        "      output[ms_count][2] = b\n",
        "      output[ms_count][3] = i\n",
        "      if dee < 2:\n",
        "        dee = dee + 1\n",
        "        print(i)\n",
        "        print(ms_count)\n",
        "      if dee == 2:\n",
        "        print(bezier_value(bezier[b][0][0],bezier[b][1][0],bezier[b][2][0],bezier[b][3][0],i/bezier_splits))\n",
        "        print(bezier_value(bezier[b][0][1],bezier[b][1][1],bezier[b][2][1],bezier[b][3][1],i/bezier_splits))\n",
        "        dee = dee + 1\n",
        "      output[ms_count][4] = bezier_value(bezier[b][0][0],bezier[b][1][0],bezier[b][2][0],bezier[b][3][0],i/bezier_splits)\n",
        "      output[ms_count][5] = bezier_value(bezier[b][0][1],bezier[b][1][1],bezier[b][2][1],bezier[b][3][1],i/bezier_splits)\n",
        "      if dee == 3:\n",
        "        print(output[ms_count][4])\n",
        "        print(output[ms_count][5])\n",
        "        dee = dee + 1\n",
        "      if bezier_derivative(bezier[b][0][0],bezier[b][1][0],bezier[b][2][0],bezier[b][3][0],i/bezier_splits) == 0:\n",
        "        output[ms_count][6] = 0\n",
        "      else:\n",
        "        output[ms_count][6] = math.pi/2.0 - math.atan2(bezier_derivative(bezier[b][0][1],bezier[b][1][1],bezier[b][2][1],bezier[b][3][1],i/bezier_splits),bezier_derivative(bezier[b][0][0],bezier[b][1][0],bezier[b][2][0],bezier[b][3][0],i/bezier_splits))\n",
        "        while output[ms_count][6] < -math.pi:\n",
        "          output[ms_count][6] = output[ms_count][6] + math.pi\n",
        "        while output[ms_count][6] > math.pi:\n",
        "          output[ms_count][6] = output[ms_count][6] - math.pi\n",
        "\n",
        "      temp_arc_length = 0\n",
        "      ms_count+=1\n",
        "    bezier_ms[b][i] = ms_count-1 #maybe take away the -1 close enough?? not sure if this throws away accuracy\n",
        "print(ms_count)\n",
        "for i in range (ms_count,len(output),1):\n",
        "  #print(\"hi\")\n",
        "  output[i][0] = 0\n",
        "\n",
        "print(output[1][4])\n",
        "print(output[1][5])\n",
        "#go from backwards\n",
        "temp_arc_length = 0\n",
        "backwards_ms_count = 1\n",
        "appended_output = np.float64(np.arange(time_to_max_ms*7).reshape(time_to_max_ms,7))\n",
        "append_ms = 0\n",
        "inside_break = 0\n",
        "\n",
        "for b in range(len(bezier)-1, -1, -1):\n",
        "    for i in range(bezier_splits-1,-1,-1):\n",
        "      temp_arc_length+=arc_length(bezier[b][0][0],bezier[b][0][1],bezier[b][1][0],bezier[b][1][1],bezier[b][2][0],bezier[b][2][1],bezier[b][3][0],bezier[b][3][1],i/bezier_splits,(i+1)/bezier_splits)\n",
        "      if backwards_ms_count < time_to_max_ms:\n",
        "        setpoint = backwards_ms_count/time_to_max_ms*desired_speed_ms\n",
        "      else:\n",
        "        setpoint = desired_speed_ms\n",
        "      #if i > 500 and i < 1000:\n",
        "       # print(\"temp_arc_length: \" + str(temp_arc_length))\n",
        "        #print(\"setpoint: \" + str(setpoint))\n",
        "      if temp_arc_length >= setpoint:\n",
        "        appended_output[backwards_ms_count][0] = setpoint*1000 #inch/sec\n",
        "        radius = 1/curvature(bezier[b][0][0],bezier[b][0][1],bezier[b][1][0],bezier[b][1][1],bezier[b][2][0],bezier[b][2][1],bezier[b][3][0],bezier[b][3][1],i/bezier_splits)\n",
        "        appended_output[backwards_ms_count][1] = output[backwards_ms_count][0]/radius #radians/sec\n",
        "        appended_output[backwards_ms_count][2] = b\n",
        "        appended_output[backwards_ms_count][3] = i\n",
        "        appended_output[backwards_ms_count][4] = bezier_value(bezier[b][0][0],bezier[b][1][0],bezier[b][2][0],bezier[b][3][0],i/bezier_splits)\n",
        "        appended_output[backwards_ms_count][5] = bezier_value(bezier[b][0][1],bezier[b][1][1],bezier[b][2][1],bezier[b][3][1],i/bezier_splits)\n",
        "        if bezier_derivative(bezier[b][0][0],bezier[b][1][0],bezier[b][2][0],bezier[b][3][0],i/bezier_splits) == 0:\n",
        "          appended_output[backwards_ms_count][6] = 0\n",
        "        else:\n",
        "          appended_output[backwards_ms_count][6] = math.pi/2.0 - math.atan2(bezier_derivative(bezier[b][0][1],bezier[b][1][1],bezier[b][2][1],bezier[b][3][1],i/bezier_splits),bezier_derivative(bezier[b][0][0],bezier[b][1][0],bezier[b][2][0],bezier[b][3][0],i/bezier_splits))\n",
        "          while appended_output[backwards_ms_count][6] < -math.pi:\n",
        "            appended_output[backwards_ms_count][6] = appended_output[backwards_ms_count][6] + math.pi\n",
        "          while appended_output[backwards_ms_count][6] > math.pi:\n",
        "            appended_output[backwards_ms_count][6] = appended_output[backwards_ms_count][6] - math.pi\n",
        "        temp_arc_length = 0\n",
        "        backwards_ms_count+=1\n",
        "        if backwards_ms_count>=time_to_max_ms:\n",
        "          append_ms = bezier_ms[b][i]+1 #careful, might hv to attach on the break outside of this for loop if theres multiple bezier curves\n",
        "          break;\n",
        "        #print(\"setpoint: \" + str(setpoint*1000))\n",
        "        #print(output[bezier_ms[b][i]][0])\n",
        "        if setpoint*1000 >= output[bezier_ms[b][i]][0]:\n",
        "          print(\"setpoint: \" + str(setpoint*1000))\n",
        "          print(output[bezier_ms[b][i]][0])\n",
        "          append_ms = bezier_ms[b][i]+1\n",
        "          print(\"break called\")\n",
        "          break;\n",
        "    if backwards_ms_count>=time_to_max_ms:\n",
        "           break;\n",
        "print(\"append_ms: \" + str(append_ms))\n",
        "print(output[1][4])\n",
        "print(output[1][5])\n",
        "for m in range (append_ms, append_ms+backwards_ms_count-1,1):\n",
        "  output[m][0] = appended_output[backwards_ms_count-1+append_ms-m][0]\n",
        "  output[m][1] = appended_output[backwards_ms_count-1+append_ms-m][1]\n",
        "  output[m][2] = appended_output[backwards_ms_count-1+append_ms-m][2]\n",
        "  output[m][3] = appended_output[backwards_ms_count-1+append_ms-m][3]\n",
        "  output[m][4] = appended_output[backwards_ms_count-1+append_ms-m][4]\n",
        "  output[m][5] = appended_output[backwards_ms_count-1+append_ms-m][5]\n",
        "  output[m][6] = appended_output[backwards_ms_count-1+append_ms-m][6]\n",
        "\n",
        "print(output[1][4])\n",
        "print(output[1][5])\n",
        "\n",
        "for i in range(append_ms+backwards_ms_count-1,len(output),1):\n",
        "  output[i][0] = 0\n",
        "  output[i][1] = 0\n",
        "\n",
        "output_file = os.path.join('/content/', 'output.txt')\n",
        "np.savetxt(output_file, output)\n",
        "\n",
        "#todo: decceleration part is int, not float\n",
        "print(output[1][4])\n",
        "print(output[1][5])"
      ]
    },
    {
      "cell_type": "markdown",
      "source": [
        "# debugging\n",
        "\n",
        "\n"
      ],
      "metadata": {
        "id": "fVkhsWFBzGbN"
      }
    },
    {
      "cell_type": "code",
      "source": [
        "print(bezier_value(bezier[0][0][0],bezier[0][1][0],bezier[0][2][0],bezier[0][3][0],0))\n",
        "print(bezier_value(82.14,88.83,98.77,104.85,1/60000))\n",
        "print(bezier_value(82.14,88.83,98.77,104.85,1/60000))"
      ],
      "metadata": {
        "colab": {
          "base_uri": "https://localhost:8080/"
        },
        "id": "HOVcRdgMzJDr",
        "outputId": "3e72f127-f5f6-4fd0-8576-2e05ff81c8d1"
      },
      "execution_count": null,
      "outputs": [
        {
          "output_type": "stream",
          "name": "stdout",
          "text": [
            "82.14\n",
            "82.1403345027083\n"
          ]
        }
      ]
    }
  ]
}